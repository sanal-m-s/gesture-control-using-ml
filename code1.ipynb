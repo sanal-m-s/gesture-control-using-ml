{
  "nbformat": 4,
  "nbformat_minor": 0,
  "metadata": {
    "colab": {
      "provenance": [],
      "authorship_tag": "ABX9TyNSW2IDrHuB1bhhaz+zVfLn",
      "include_colab_link": true
    },
    "kernelspec": {
      "name": "python3",
      "display_name": "Python 3"
    },
    "language_info": {
      "name": "python"
    }
  },
  "cells": [
    {
      "cell_type": "markdown",
      "metadata": {
        "id": "view-in-github",
        "colab_type": "text"
      },
      "source": [
        "<a href=\"https://colab.research.google.com/github/sanal-m-s/gesture-control-using-ml/blob/main/code1.ipynb\" target=\"_parent\"><img src=\"https://colab.research.google.com/assets/colab-badge.svg\" alt=\"Open In Colab\"/></a>"
      ]
    },
    {
      "cell_type": "code",
      "execution_count": null,
      "metadata": {
        "id": "f9lqSTXIc-cG"
      },
      "outputs": [],
      "source": [
        "import os\n",
        "import cv2\n",
        "cap=cv2.VideoCapture(0)\n",
        "directory='Image/'\n",
        "while True:\n",
        "    _,frame=cap.read()\n",
        "\n",
        "    count = {\n",
        "             'a': len(os.listdir(directory+\"/A\")),\n",
        "             'b': len(os.listdir(directory+\"/B\")),\n",
        "             'c': len(os.listdir(directory+\"/C\")),\n",
        "             'd': len(os.listdir(directory+\"/D\")),\n",
        "             'e': len(os.listdir(directory+\"/E\")),\n",
        "             }\n",
        "\n",
        "    row = frame.shape[1]\n",
        "    col = frame.shape[0]\n",
        "    cv2.rectangle(frame,(0,40),(300,400),(255,255,255),2)\n",
        "    cv2.imshow(\"data\",frame)\n",
        "    cv2.imshow(\"ROI\",frame[40:400,0:300])\n",
        "    frame=frame[40:400,0:300]\n",
        "    interrupt = cv2.waitKey(10)\n",
        "    if interrupt & 0xFF == ord('a'):\n",
        "        cv2.imwrite(directory+'A/'+str(count['a'])+'.png',frame)\n",
        "    if interrupt & 0xFF == ord('b'):\n",
        "        cv2.imwrite(directory+'B/'+str(count['b'])+'.png',frame)\n",
        "    if interrupt & 0xFF == ord('c'):\n",
        "        cv2.imwrite(directory+'C/'+str(count['c'])+'.png',frame)\n",
        "    if interrupt & 0xFF == ord('d'):\n",
        "        cv2.imwrite(directory+'D/'+str(count['d'])+'.png',frame)\n",
        "    if interrupt & 0xFF == ord('e'):\n",
        "        cv2.imwrite(directory+'E/'+str(count['e'])+'.png',frame)\n",
        "cap.release()\n",
        "cv2.destroyAllWindows()"
      ]
    }
  ]
}